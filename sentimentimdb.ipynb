{
 "cells": [
  {
   "cell_type": "markdown",
   "metadata": {},
   "source": [
    "### Preprocessing"
   ]
  },
  {
   "cell_type": "code",
   "execution_count": 121,
   "metadata": {},
   "outputs": [],
   "source": [
    "import pandas as pd\n",
    "import os\n",
    "from sklearn.utils import shuffle\n",
    "import re\n",
    "import numpy as np"
   ]
  },
  {
   "cell_type": "code",
   "execution_count": 122,
   "metadata": {},
   "outputs": [
    {
     "data": {
      "text/plain": [
       "(12500, 12500)"
      ]
     },
     "execution_count": 122,
     "metadata": {},
     "output_type": "execute_result"
    }
   ],
   "source": [
    "text = []\n",
    "sentiment = []\n",
    "file_path = \"/text/rudra/sentiment_analysis/datasets/aclImdb/train/\"\n",
    "for file in os.listdir(os.path.join(file_path,'neg')):\n",
    "    path = os.path.join(file_path,'neg',file)\n",
    "    with open(path) as f:\n",
    "        text.append(f.readline())\n",
    "sentiment = [0 for _ in os.listdir(os.path.join(file_path,'neg'))]\n",
    "len(text), len(sentiment)"
   ]
  },
  {
   "cell_type": "code",
   "execution_count": 123,
   "metadata": {},
   "outputs": [],
   "source": [
    "for file in os.listdir(os.path.join(file_path,'pos')):\n",
    "    path = os.path.join(file_path,'pos',file)\n",
    "    with open(path) as f:\n",
    "        text.append(f.readline())\n",
    "pos_sentiment = [1 for _ in os.listdir(os.path.join(file_path,'pos'))]\n",
    "sentiment.extend(pos_sentiment)\n"
   ]
  },
  {
   "cell_type": "code",
   "execution_count": 124,
   "metadata": {},
   "outputs": [
    {
     "name": "stdout",
     "output_type": "stream",
     "text": [
      "12500 12500\n",
      "25000 25000\n"
     ]
    }
   ],
   "source": [
    "text_test = []\n",
    "sentiment_test = []\n",
    "file_path = \"/text/rudra/sentiment_analysis/datasets/aclImdb/test/\"\n",
    "for file in os.listdir(os.path.join(file_path,'neg')):\n",
    "    path = os.path.join(file_path,'neg',file)\n",
    "    with open(path) as f:\n",
    "        text_test.append(f.readline())\n",
    "sentiment_test = [0 for _ in os.listdir(os.path.join(file_path,'neg'))]\n",
    "print(len(text_test), len(sentiment_test))\n",
    "\n",
    "for file in os.listdir(os.path.join(file_path,'pos')):\n",
    "    path = os.path.join(file_path,'pos',file)\n",
    "    with open(path) as f:\n",
    "        text_test.append(f.readline())\n",
    "pos_sentiment = [1 for _ in os.listdir(os.path.join(file_path,'pos'))]\n",
    "sentiment_test.extend(pos_sentiment)\n",
    "print(len(text_test), len(sentiment_test))"
   ]
  },
  {
   "cell_type": "code",
   "execution_count": 173,
   "metadata": {},
   "outputs": [
    {
     "data": {
      "text/plain": [
       "[\"I gave this a 3 out of a possible 10 stars.<br /><br />Unless you like wasting your time watching an anorexic actress, in this film it's Carly Pope, behaving like a ditz, don't bother.<br /><br />Carly Pope plays Sara Novak, a young college student, who becomes intrigued with a game of riddles, that leads her down into subway tunnels underneath the city - a dangerous thing for even a well-armed man to go in alone.<br /><br />There are various intrigues in the film -- a weirdo classmate who is apparently stalking Sara, a cynical shopkeeper who runs some kind of offbeat hole-in-the-wall establishment that appears to be located in the back alley of a ghetto, a nerdish dim-wit that hangs around the cynic's shop, and a woman named Emily Gray, who is back in prison.<br /><br />Sara's father is a lawyer who is handling Emily Gray's case. <br /><br />A few years back, Emily Gray attempted to drown a 12 year old boy. Emily was put in a mental hospital for 5 years, and for some cockeyed reason they let her out again, even though it is obvious she is still dangerously deranged.<br /><br />The only explanation Emily has ever given for her crime is: I never sinned.<br /><br />It's all part of the design.<br /><br />Well, my friend, don't expect to ever get any better explanation than that, because you won't.\",\n",
       " 'We brought this film as a joke for a friend, and could of been our worst joke to play. The film is barely watchable, and the acting is dire. The worst child actor ever used and Hasslehoff giving a substandard performance. The plot is disgraceful and at points we was so bored we was wondering what the hell was going on. It tries to be gruesome in places but is just laughable.<br /><br />Just terrible',\n",
       " \"I and a friend rented this movie. We both found the movie soundtrack and production techniques to be lagging. The movie's plot appeared to drag on throughout with little surprise in the ending. We both agreed that the movie could have been compressed into roughly an hour giving it more suspense and moving plot.\",\n",
       " \"I thought maybe... maybe this could be good. An early appearance by the Re-Animator (Jeffery Combs); many homage's to old horror movies; the Troma label on the front\\x85 this movie could be a gem! I thought wrong.<br /><br />Frightmare is a boring, overplayed, half assed homage to the fright films of yore. The story is an old one, young people breaking into a house, getting drunk, making love, and tampering with things that shouldn't be tampered with. The oft \\x96 recycled slasher film formula is used here, this time with a thought to be dead actor named Conrad Radzoff doing the killing. In fact, the performance by the Radzoff's actor Ferdy Mayne is the only redeeming quality of this film. He does the snooty Dracula style character very well. But as for the kids, its not so good, with Combs only having a minimal part.<br /><br />The film lacks entertainment value, and only features one cool character, and one or two scenes that can hold your attention. I do not recommend this film unless you are desperate for something to watch, and this is the only movie left at blockbuster.\",\n",
       " 'Art-house horror tries to use unconventional aesthetics to cover the fact that this is just another serial killer chiller which ultimately relies on pornographic combinations of teen sexuality and violent gore. The suburbs come across about as well as they do in every piece of Australian writing (book or film) since 1960 - surprise surprise, the suburbs have a dark underbelly - and the plot is as contrived as any you\\'ve seen. \"The neighbours would never know about this guy,\" one of the filmmakers says about Joel Edgerton\\'s character. \"But he was completely plausible as to what he was. Serial killers don\\'t all have patches over their eyes and scars down their cheeks. They look like the guy next door.\" Another trader in pornographic violence who sees a serial killer in every street. But the real insignificance of this film is in the fact that it\\'s a genre film that nobody saw. Backed by substantial funds (including some from Film Finance - that\\'s government), this got a run at the Underground Film Festival in Melbourne and had to rely on ACMI kindness for a *very* short release season. Q1: What is the FFC doing funding genre flicks, even if they are \\'arty\\' and aesthetically unconventional? Q2: Why are these nasty movies (ACOLYTES; BEAUTIFUL; PUNISHMENT; NO THROUGH ROAD) being made in the first place? Richard Wolstencroft & co encourage their creators to believe they\\'re giving the masses what they really want, as opposed to what the culture elite in government funding think they want. The truth is that these brutal and forgettable nasties earn far more critical acclaim - and win far more obscure awards - than they\\'re due.']"
      ]
     },
     "execution_count": 173,
     "metadata": {},
     "output_type": "execute_result"
    }
   ],
   "source": [
    "text_test[:5]"
   ]
  },
  {
   "cell_type": "code",
   "execution_count": 179,
   "metadata": {},
   "outputs": [
    {
     "data": {
      "text/plain": [
       "array([1])"
      ]
     },
     "execution_count": 179,
     "metadata": {},
     "output_type": "execute_result"
    }
   ],
   "source": [
    "np.unique(sentiment_test[12500:])"
   ]
  },
  {
   "cell_type": "code",
   "execution_count": 125,
   "metadata": {},
   "outputs": [
    {
     "data": {
      "text/plain": [
       "(50000, 50000)"
      ]
     },
     "execution_count": 125,
     "metadata": {},
     "output_type": "execute_result"
    }
   ],
   "source": [
    "text.extend(text_test)\n",
    "sentiment.extend(sentiment_test)\n",
    "len(text), len(sentiment)"
   ]
  },
  {
   "cell_type": "code",
   "execution_count": 126,
   "metadata": {},
   "outputs": [
    {
     "data": {
      "text/plain": [
       "50000"
      ]
     },
     "execution_count": 126,
     "metadata": {},
     "output_type": "execute_result"
    }
   ],
   "source": [
    "pd.options.display.max_colwidth = 1000\n",
    "text, sentiment = shuffle(text,sentiment, random_state = 2)\n",
    "df = pd.DataFrame(list(zip(text,sentiment)), columns=['text','sentiment'])\n",
    "len(df)"
   ]
  },
  {
   "cell_type": "code",
   "execution_count": 134,
   "metadata": {},
   "outputs": [
    {
     "data": {
      "text/html": [
       "<div>\n",
       "<style scoped>\n",
       "    .dataframe tbody tr th:only-of-type {\n",
       "        vertical-align: middle;\n",
       "    }\n",
       "\n",
       "    .dataframe tbody tr th {\n",
       "        vertical-align: top;\n",
       "    }\n",
       "\n",
       "    .dataframe thead th {\n",
       "        text-align: right;\n",
       "    }\n",
       "</style>\n",
       "<table border=\"1\" class=\"dataframe\">\n",
       "  <thead>\n",
       "    <tr style=\"text-align: right;\">\n",
       "      <th></th>\n",
       "      <th>text</th>\n",
       "      <th>sentiment</th>\n",
       "    </tr>\n",
       "  </thead>\n",
       "  <tbody>\n",
       "    <tr>\n",
       "      <th>0</th>\n",
       "      <td>I had the pleasure of viewing this beautiful film last night, with the wonderful addition of a question and answer session with the director following the viewing. I suspect that the first commenter has never lost a parent or someone very close to them in death. I have had many such losses, and this movie spoke to me. One of the major themes is how we don't deal with questions/issues/stories with our loved ones until it's too late--they're too incapacitated or dead before that happens. Talk to your loved ones, listen to and record their stories, tell people you love them, resolve differences. I loved the message that there are no mistakes. I love the director's portrayal of the relationship of the two daughters--as one of six siblings, it's clear to me he understood how complex those relationships are. His history as a cinematographer also comes through loud and clear--what a beautiful movie! The casting is outstanding--a film not to be missed!</td>\n",
       "      <td>1</td>\n",
       "    </tr>\n",
       "    <tr>\n",
       "      <th>1</th>\n",
       "      <td>It's nice to see Julie Andrews trying a straight dramatic role here--something she hadn't done in awhile--but her character of Judith(wise they didn't try to pass her off as a 'Judy')has the old refined manners and tomboyish hairstyle of yore, and Andrews enacts 'grown-up' as any other actress would interpret frigid. It's a surprisingly bland drama set in Barbados involving Omar Sharif(not the liveliest leading man around--not even in 1974!)hoping to make Andrews a spy while also slowly leading her into the proverbial bedroom. Unmemorable outing does have some camp value: the James Bond-like credits at the beginning are a cheesy hoot. As for Julie: she's quiet and contemplative, but that doesn't do much for the audience, or for the film. Blake Edwards paces the freakin' thing like a funeral. * from ****</td>\n",
       "      <td>0</td>\n",
       "    </tr>\n",
       "    <tr>\n",
       "      <th>2</th>\n",
       "      <td>\"STEP BY STEP,\" is my opinion, is a pure ABC hit! I can't recall every episode, but I still enjoyed it. It's hard to say which episode was my favorite. However, I think it was always funny when a mishap occurred at school. I always laugh at that. As a matter of fact, I think just about every single one of J.T. (Brandon Call) and Cody's (Sasha Mitchell) lines were funny. It would have been nice if Penny (Patrika Darbo) had stayed on the show throughout its entire run. Everyone always gave a good performance, the production design was spectacular, the costumes were well-designed, and the writing was always very strong. In conclusion, I hope it never stops airing in syndication.</td>\n",
       "      <td>1</td>\n",
       "    </tr>\n",
       "    <tr>\n",
       "      <th>3</th>\n",
       "      <td>I rented this film yesterday mostly due to the good-looking art and the summary given on the back of the jacket. After popping it into my DVD player I re-examined the jacket cover and even though I took the cover out of from the plastic viewer, I STILL could not read any of the production detail information about the film. This film is entitled Evil on the Jacket and had to locate it by going to Faith Films website to find out any linkage to it here on IMDb.&lt;br /&gt;&lt;br /&gt;The filming and special affects done in the film looked quite good ... THEN, a line-reading actor spoke. Oh dear ... this actor's reading sounded like some pimple-faced high school jock whose voice just managed to change pitch, and no attempt given to go beyond reading the lines from the script. At first I thought I got a bad disc out of audio sync, then had to surmise it was a foreign film since I couldn't read the jacket... English dialog dubbed. If they'd casted the right person for dubbing the dialog, this film M...</td>\n",
       "      <td>0</td>\n",
       "    </tr>\n",
       "    <tr>\n",
       "      <th>4</th>\n",
       "      <td>Hines and Goforth, the perpetrators of this crime, begin on the wrong foot first step, by assuming that Wells wrote Gothic horror and that all of his lines are meant to be taken seriously. That simply isn't true. Wells was very much an inheritor of the Enlightenment, and his main concern was that Victorian self-satisfaction might leave the British unprepared for the world the new technology could produce - both the good and the bad.&lt;br /&gt;&lt;br /&gt;Two terrible consequences follow - the protagonist is portrayed as a wimpy screamer (I was reminded of Fay Wray in the original King Kong), rather than a man struggling to live out the ironies of an unbelievable catastrophe; and the dialog reeks of 'Victorianisms' uttered seriously that Welles clearly meant to be taken tongue in cheek.&lt;br /&gt;&lt;br /&gt;All of this looks suspiciously like Ed Wood with an enormous budget to waste on CGI effects - which by the way are so poorly accomplished, the Warner Bros. cartoon factory of the 1940s could have don...</td>\n",
       "      <td>0</td>\n",
       "    </tr>\n",
       "  </tbody>\n",
       "</table>\n",
       "</div>"
      ],
      "text/plain": [
       "                                                                                                                                                                                                                                                                                                                                                                                                                                                                                                                                                                                                                                                                                                                                                                                                                                                                                                                                                                                                                                      text  \\\n",
       "0                                           I had the pleasure of viewing this beautiful film last night, with the wonderful addition of a question and answer session with the director following the viewing. I suspect that the first commenter has never lost a parent or someone very close to them in death. I have had many such losses, and this movie spoke to me. One of the major themes is how we don't deal with questions/issues/stories with our loved ones until it's too late--they're too incapacitated or dead before that happens. Talk to your loved ones, listen to and record their stories, tell people you love them, resolve differences. I loved the message that there are no mistakes. I love the director's portrayal of the relationship of the two daughters--as one of six siblings, it's clear to me he understood how complex those relationships are. His history as a cinematographer also comes through loud and clear--what a beautiful movie! The casting is outstanding--a film not to be missed!   \n",
       "1                                                                                                                                                                                           It's nice to see Julie Andrews trying a straight dramatic role here--something she hadn't done in awhile--but her character of Judith(wise they didn't try to pass her off as a 'Judy')has the old refined manners and tomboyish hairstyle of yore, and Andrews enacts 'grown-up' as any other actress would interpret frigid. It's a surprisingly bland drama set in Barbados involving Omar Sharif(not the liveliest leading man around--not even in 1974!)hoping to make Andrews a spy while also slowly leading her into the proverbial bedroom. Unmemorable outing does have some camp value: the James Bond-like credits at the beginning are a cheesy hoot. As for Julie: she's quiet and contemplative, but that doesn't do much for the audience, or for the film. Blake Edwards paces the freakin' thing like a funeral. * from ****   \n",
       "2                                                                                                                                                                                                                                                                                                                             \"STEP BY STEP,\" is my opinion, is a pure ABC hit! I can't recall every episode, but I still enjoyed it. It's hard to say which episode was my favorite. However, I think it was always funny when a mishap occurred at school. I always laugh at that. As a matter of fact, I think just about every single one of J.T. (Brandon Call) and Cody's (Sasha Mitchell) lines were funny. It would have been nice if Penny (Patrika Darbo) had stayed on the show throughout its entire run. Everyone always gave a good performance, the production design was spectacular, the costumes were well-designed, and the writing was always very strong. In conclusion, I hope it never stops airing in syndication.   \n",
       "3  I rented this film yesterday mostly due to the good-looking art and the summary given on the back of the jacket. After popping it into my DVD player I re-examined the jacket cover and even though I took the cover out of from the plastic viewer, I STILL could not read any of the production detail information about the film. This film is entitled Evil on the Jacket and had to locate it by going to Faith Films website to find out any linkage to it here on IMDb.<br /><br />The filming and special affects done in the film looked quite good ... THEN, a line-reading actor spoke. Oh dear ... this actor's reading sounded like some pimple-faced high school jock whose voice just managed to change pitch, and no attempt given to go beyond reading the lines from the script. At first I thought I got a bad disc out of audio sync, then had to surmise it was a foreign film since I couldn't read the jacket... English dialog dubbed. If they'd casted the right person for dubbing the dialog, this film M...   \n",
       "4  Hines and Goforth, the perpetrators of this crime, begin on the wrong foot first step, by assuming that Wells wrote Gothic horror and that all of his lines are meant to be taken seriously. That simply isn't true. Wells was very much an inheritor of the Enlightenment, and his main concern was that Victorian self-satisfaction might leave the British unprepared for the world the new technology could produce - both the good and the bad.<br /><br />Two terrible consequences follow - the protagonist is portrayed as a wimpy screamer (I was reminded of Fay Wray in the original King Kong), rather than a man struggling to live out the ironies of an unbelievable catastrophe; and the dialog reeks of 'Victorianisms' uttered seriously that Welles clearly meant to be taken tongue in cheek.<br /><br />All of this looks suspiciously like Ed Wood with an enormous budget to waste on CGI effects - which by the way are so poorly accomplished, the Warner Bros. cartoon factory of the 1940s could have don...   \n",
       "\n",
       "   sentiment  \n",
       "0          1  \n",
       "1          0  \n",
       "2          1  \n",
       "3          0  \n",
       "4          0  "
      ]
     },
     "execution_count": 134,
     "metadata": {},
     "output_type": "execute_result"
    }
   ],
   "source": [
    "df.head()"
   ]
  },
  {
   "cell_type": "code",
   "execution_count": 127,
   "metadata": {},
   "outputs": [],
   "source": [
    "def preprocess_text(sentence):\n",
    "    sentence = re.sub('(<)br\\s*\\/*(>)','',sentence) # Removing <br> as coming in reviews due to html pages\n",
    "    sentence = re.sub('([?.!])',r' \\1 ',sentence) # Putting space between word and punctuation\n",
    "    sentence = re.sub('[^a-zA-z!.?]+',' ',sentence) # Replacing everythong other that a-zA-z and some punctuation\n",
    "    sentence = re.sub('(\\.\\s+)+','. ',sentence)\n",
    "    sentence = re.sub('(\\s+[a-z]\\s+)',' ',sentence) # Replacing every single character in between sentence\n",
    "    sentence = sentence.lower() # lowering all words\n",
    "    return sentence\n"
   ]
  },
  {
   "cell_type": "code",
   "execution_count": 128,
   "metadata": {},
   "outputs": [],
   "source": [
    "processed_text = [preprocess_text(_) for _ in text]"
   ]
  },
  {
   "cell_type": "code",
   "execution_count": 129,
   "metadata": {},
   "outputs": [
    {
     "data": {
      "text/plain": [
       "(50000, 50000)"
      ]
     },
     "execution_count": 129,
     "metadata": {},
     "output_type": "execute_result"
    }
   ],
   "source": [
    "len(processed_text),len(sentiment)"
   ]
  },
  {
   "cell_type": "code",
   "execution_count": 182,
   "metadata": {},
   "outputs": [
    {
     "data": {
      "text/plain": [
       "(['i had the pleasure of viewing this beautiful film last night with the wonderful addition of question and answer session with the director following the viewing . i suspect that the first commenter has never lost parent or someone very close to them in death . i have had many such losses and this movie spoke to me . one of the major themes is how we don deal with questions issues stories with our loved ones until it too late they re too incapacitated or dead before that happens . talk to your loved ones listen to and record their stories tell people you love them resolve differences . i loved the message that there are no mistakes . i love the director portrayal of the relationship of the two daughters as one of six siblings it clear to me he understood how complex those relationships are . his history as cinematographer also comes through loud and clear what beautiful movie ! the casting is outstanding film not to be missed ! ',\n",
       "  'it nice to see julie andrews trying straight dramatic role here something she hadn done in awhile but her character of judith wise they didn try to pass her off as judy has the old refined manners and tomboyish hairstyle of yore and andrews enacts grown up as any other actress would interpret frigid . it a surprisingly bland drama set in barbados involving omar sharif not the liveliest leading man around not even in ! hoping to make andrews spy while also slowly leading her into the proverbial bedroom . unmemorable outing does have some camp value the james bond like credits at the beginning are cheesy hoot . as for julie she quiet and contemplative but that doesn do much for the audience or for the film . blake edwards paces the freakin thing like funeral . from '],\n",
       " [1, 0])"
      ]
     },
     "execution_count": 182,
     "metadata": {},
     "output_type": "execute_result"
    }
   ],
   "source": [
    "processed_text[:2], sentiment[:2]"
   ]
  },
  {
   "cell_type": "markdown",
   "metadata": {},
   "source": [
    "## Model training"
   ]
  },
  {
   "cell_type": "code",
   "execution_count": 135,
   "metadata": {},
   "outputs": [],
   "source": [
    "import tensorflow as tf\n",
    "from sklearn.model_selection import train_test_split"
   ]
  },
  {
   "cell_type": "code",
   "execution_count": 240,
   "metadata": {},
   "outputs": [],
   "source": [
    "max_length = 100\n",
    "vocab_size = 20000\n",
    "BATCH_SIZE = 128\n",
    "EMBEDDING_SIZE = 128\n",
    "EPOCHS = 10"
   ]
  },
  {
   "cell_type": "code",
   "execution_count": 241,
   "metadata": {},
   "outputs": [],
   "source": [
    "tokenizer = tf.keras.preprocessing.text.Tokenizer(num_words=vocab_size)\n",
    "tokenizer.fit_on_texts(processed_text)"
   ]
  },
  {
   "cell_type": "code",
   "execution_count": 242,
   "metadata": {},
   "outputs": [
    {
     "data": {
      "text/plain": [
       "(50000, 100)"
      ]
     },
     "execution_count": 242,
     "metadata": {},
     "output_type": "execute_result"
    }
   ],
   "source": [
    "processed_text_vector = tokenizer.texts_to_sequences(processed_text)\n",
    "padded_text_vector = tf.keras.preprocessing.sequence.pad_sequences(processed_text_vector,maxlen=max_length, \n",
    "                                                                   truncating='post', padding='post')\n",
    "padded_text_vector.shape"
   ]
  },
  {
   "cell_type": "code",
   "execution_count": 243,
   "metadata": {},
   "outputs": [
    {
     "data": {
      "text/plain": [
       "(45000, 5000, 45000, 5000)"
      ]
     },
     "execution_count": 243,
     "metadata": {},
     "output_type": "execute_result"
    }
   ],
   "source": [
    "train_text, test_text, train_sentiment, test_sentiment = train_test_split(padded_text_vector, sentiment,\n",
    "                                                                          test_size = 0.1,\n",
    "                                                                          random_state=1)\n",
    "len(train_text), len(test_text), len(train_sentiment), len(test_sentiment)"
   ]
  },
  {
   "cell_type": "code",
   "execution_count": 244,
   "metadata": {},
   "outputs": [
    {
     "data": {
      "text/plain": [
       "(36000, 9000, 36000, 9000)"
      ]
     },
     "execution_count": 244,
     "metadata": {},
     "output_type": "execute_result"
    }
   ],
   "source": [
    "text_train, text_val, sentiment_train, sentiment_val = train_test_split(train_text,train_sentiment, test_size=0.2,\n",
    "                                                                       random_state=2)\n",
    "len(text_train), len(text_val), len(sentiment_train), len(sentiment_val)"
   ]
  },
  {
   "cell_type": "code",
   "execution_count": 228,
   "metadata": {},
   "outputs": [
    {
     "data": {
      "text/plain": [
       "256"
      ]
     },
     "execution_count": 228,
     "metadata": {},
     "output_type": "execute_result"
    }
   ],
   "source": [
    "256"
   ]
  },
  {
   "cell_type": "code",
   "execution_count": 246,
   "metadata": {},
   "outputs": [],
   "source": [
    "model = tf.keras.models.Sequential()\n",
    "model.add(tf.keras.layers.Embedding(input_dim=vocab_size, output_dim=EMBEDDING_SIZE, input_length=max_length))\n",
    "model.add(tf.keras.layers.CuDNNLSTM(256))\n",
    "model.add(tf.keras.layers.Dense(1, activation='sigmoid'))"
   ]
  },
  {
   "cell_type": "code",
   "execution_count": 247,
   "metadata": {},
   "outputs": [
    {
     "name": "stdout",
     "output_type": "stream",
     "text": [
      "_________________________________________________________________\n",
      "Layer (type)                 Output Shape              Param #   \n",
      "=================================================================\n",
      "embedding_13 (Embedding)     (None, 100, 128)          2560000   \n",
      "_________________________________________________________________\n",
      "cu_dnnlstm_2 (CuDNNLSTM)     (None, 256)               395264    \n",
      "_________________________________________________________________\n",
      "dense_18 (Dense)             (None, 1)                 257       \n",
      "=================================================================\n",
      "Total params: 2,955,521\n",
      "Trainable params: 2,955,521\n",
      "Non-trainable params: 0\n",
      "_________________________________________________________________\n"
     ]
    }
   ],
   "source": [
    "model.summary()"
   ]
  },
  {
   "cell_type": "code",
   "execution_count": 248,
   "metadata": {},
   "outputs": [],
   "source": [
    "model.compile(optimizer=tf.keras.optimizers.Adam(), loss='binary_crossentropy', metrics=['accuracy'])"
   ]
  },
  {
   "cell_type": "code",
   "execution_count": 249,
   "metadata": {},
   "outputs": [
    {
     "name": "stderr",
     "output_type": "stream",
     "text": [
      "/home/admin/anaconda3/envs/rudra/lib/python3.6/site-packages/tensorflow/python/ops/gradients_impl.py:112: UserWarning: Converting sparse IndexedSlices to a dense Tensor of unknown shape. This may consume a large amount of memory.\n",
      "  \"Converting sparse IndexedSlices to a dense Tensor of unknown shape. \"\n"
     ]
    },
    {
     "name": "stdout",
     "output_type": "stream",
     "text": [
      "Train on 36000 samples, validate on 9000 samples\n",
      "Epoch 1/10\n",
      "36000/36000 [==============================] - 26s 720us/step - loss: 0.5346 - acc: 0.7201 - val_loss: 0.3790 - val_acc: 0.8386\n",
      "Epoch 2/10\n",
      "36000/36000 [==============================] - 24s 680us/step - loss: 0.3064 - acc: 0.8795 - val_loss: 0.3967 - val_acc: 0.8506\n",
      "Epoch 3/10\n",
      "36000/36000 [==============================] - 24s 679us/step - loss: 0.2195 - acc: 0.9194 - val_loss: 0.3784 - val_acc: 0.8333\n",
      "Epoch 4/10\n",
      "36000/36000 [==============================] - 25s 681us/step - loss: 0.1618 - acc: 0.9440 - val_loss: 0.4209 - val_acc: 0.8223\n",
      "Epoch 5/10\n",
      "36000/36000 [==============================] - 24s 680us/step - loss: 0.1148 - acc: 0.9614 - val_loss: 0.5170 - val_acc: 0.8277\n",
      "Epoch 6/10\n",
      "36000/36000 [==============================] - 24s 680us/step - loss: 0.0808 - acc: 0.9737 - val_loss: 0.6243 - val_acc: 0.8257\n",
      "Epoch 7/10\n",
      "36000/36000 [==============================] - 24s 679us/step - loss: 0.0590 - acc: 0.9820 - val_loss: 0.6299 - val_acc: 0.8241\n",
      "Epoch 8/10\n",
      "36000/36000 [==============================] - 24s 679us/step - loss: 0.0571 - acc: 0.9820 - val_loss: 0.6562 - val_acc: 0.8094\n",
      "Epoch 9/10\n",
      "36000/36000 [==============================] - 24s 679us/step - loss: 0.0333 - acc: 0.9903 - val_loss: 0.8453 - val_acc: 0.8239\n",
      "Epoch 10/10\n",
      "36000/36000 [==============================] - 24s 679us/step - loss: 0.0279 - acc: 0.9919 - val_loss: 0.8339 - val_acc: 0.8236\n"
     ]
    },
    {
     "data": {
      "text/plain": [
       "<tensorflow.python.keras.callbacks.History at 0x7f3714851358>"
      ]
     },
     "execution_count": 249,
     "metadata": {},
     "output_type": "execute_result"
    }
   ],
   "source": [
    "model.fit(x=text_train,y=sentiment_train, batch_size=BATCH_SIZE, epochs=EPOCHS, \n",
    "          validation_data=[text_val,sentiment_val])"
   ]
  },
  {
   "cell_type": "code",
   "execution_count": 250,
   "metadata": {},
   "outputs": [],
   "source": [
    "import matplotlib.pyplot as plt"
   ]
  },
  {
   "cell_type": "code",
   "execution_count": 256,
   "metadata": {},
   "outputs": [
    {
     "data": {
      "image/png": "[encoded data removed]",
      "text/plain": [
       "<Figure size 432x288 with 1 Axes>"
      ]
     },
     "metadata": {
      "needs_background": "light"
     },
     "output_type": "display_data"
    }
   ],
   "source": [
    "plt.plot(model.history.history['val_acc'])\n",
    "plt.xlabel('epoch')\n",
    "plt.ylabel('acc')\n",
    "plt.title(\"accuracy\")\n",
    "plt.show()"
   ]
  },
  {
   "cell_type": "code",
   "execution_count": 257,
   "metadata": {},
   "outputs": [
    {
     "name": "stdout",
     "output_type": "stream",
     "text": [
      "5000/5000 [==============================] - 1s 282us/step\n"
     ]
    },
    {
     "data": {
      "text/plain": [
       "[0.8654607876777649, 0.8218]"
      ]
     },
     "execution_count": 257,
     "metadata": {},
     "output_type": "execute_result"
    }
   ],
   "source": [
    "model.evaluate(test_text, test_sentiment)"
   ]
  },
  {
   "cell_type": "markdown",
   "metadata": {},
   "source": [
    "## Evaluation"
   ]
  },
  {
   "cell_type": "code",
   "execution_count": 297,
   "metadata": {},
   "outputs": [
    {
     "data": {
      "text/plain": [
       "'i admit the great majority of films released before say are just not for me . of the dozen or so major silents i have viewed one i loved the crowd and two were very good the last command and city lights that latter chaplin circa . so i was apprehensive about this one and humor is often difficult to appreciate uh enjoy decades later . i did like the lead actors but thought little of the film . one intriguing sequence . early on the guys are supposed to get de loused and for about three minutes fully dressed do some schtick . in the background perhaps three dozen men pass by all naked white and black wwi ? and for most their butts part or full backside are shown . was this an early variation of beefcake courtesy of howard hughes ? '"
      ]
     },
     "execution_count": 297,
     "metadata": {},
     "output_type": "execute_result"
    }
   ],
   "source": [
    "x = '''I admit, the great majority of films released before say 1933 are just not for me. Of the dozen or so \"major\" silents I have viewed, one I loved (The Crowd), and two were very good (The Last Command and City Lights, that latter Chaplin circa 1931).<br /><br />So I was apprehensive about this one, and humor is often difficult to appreciate (uh, enjoy) decades later. I did like the lead actors, but thought little of the film.<br /><br />One intriguing sequence. Early on, the guys are supposed to get \"de-loused\" and for about three minutes, fully dressed, do some schtick. In the background, perhaps three dozen men pass by, all naked, white and black (WWI ?), and for most, their butts, part or full backside, are shown. Was this an early variation of beefcake courtesy of Howard Hughes?'''\n",
    "x = preprocess_text(x)\n",
    "x"
   ]
  },
  {
   "cell_type": "code",
   "execution_count": 298,
   "metadata": {},
   "outputs": [
    {
     "data": {
      "text/plain": [
       "132"
      ]
     },
     "execution_count": 298,
     "metadata": {},
     "output_type": "execute_result"
    }
   ],
   "source": [
    "vec = tokenizer.texts_to_sequences([x])\n",
    "len(vec[0])"
   ]
  },
  {
   "cell_type": "code",
   "execution_count": 299,
   "metadata": {},
   "outputs": [
    {
     "data": {
      "text/plain": [
       "100"
      ]
     },
     "execution_count": 299,
     "metadata": {},
     "output_type": "execute_result"
    }
   ],
   "source": [
    "pad_vec = tf.keras.preprocessing.sequence.pad_sequences(vec, maxlen=max_length, truncating='post', padding='post')\n",
    "len(pad_vec[0])"
   ]
  },
  {
   "cell_type": "code",
   "execution_count": 300,
   "metadata": {},
   "outputs": [
    {
     "data": {
      "text/plain": [
       "array([[0.00085301]], dtype=float32)"
      ]
     },
     "execution_count": 300,
     "metadata": {},
     "output_type": "execute_result"
    }
   ],
   "source": [
    "result = model.predict(pad_vec)\n",
    "result"
   ]
  },
  {
   "cell_type": "code",
   "execution_count": 301,
   "metadata": {},
   "outputs": [
    {
     "data": {
      "text/plain": [
       "array([[False]])"
      ]
     },
     "execution_count": 301,
     "metadata": {},
     "output_type": "execute_result"
    }
   ],
   "source": [
    "result > 0.5"
   ]
  },
  {
   "cell_type": "code",
   "execution_count": null,
   "metadata": {},
   "outputs": [],
   "source": []
  }
 ],
 "metadata": {
  "kernelspec": {
   "display_name": "Python (rudra)",
   "language": "python",
   "name": "rudra"
  },
  "language_info": {
   "codemirror_mode": {
    "name": "ipython",
    "version": 3
   },
   "file_extension": ".py",
   "mimetype": "text/x-python",
   "name": "python",
   "nbconvert_exporter": "python",
   "pygments_lexer": "ipython3",
   "version": "3.6.8"
  }
 },
 "nbformat": 4,
 "nbformat_minor": 2
}
